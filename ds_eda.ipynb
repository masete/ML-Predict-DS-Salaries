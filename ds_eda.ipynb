{
 "cells": [
  {
   "cell_type": "code",
   "execution_count": 1,
   "id": "f690de1c-447e-4e5e-b375-b4fe04edb749",
   "metadata": {},
   "outputs": [],
   "source": [
    "import pandas as pd\n",
    "import matplotlib.pyplot as plt\n",
    "import seaborn as sns"
   ]
  },
  {
   "cell_type": "code",
   "execution_count": 2,
   "id": "8cd4b941-62b0-43ff-ad85-044d71b60812",
   "metadata": {},
   "outputs": [],
   "source": [
    "df = pd.read_csv('salary_data_cleaned.csv')"
   ]
  },
  {
   "cell_type": "code",
   "execution_count": 3,
   "id": "38d216de-b211-4e26-a457-253c3f825b49",
   "metadata": {
    "tags": []
   },
   "outputs": [
    {
     "data": {
      "text/html": [
       "<div>\n",
       "<style scoped>\n",
       "    .dataframe tbody tr th:only-of-type {\n",
       "        vertical-align: middle;\n",
       "    }\n",
       "\n",
       "    .dataframe tbody tr th {\n",
       "        vertical-align: top;\n",
       "    }\n",
       "\n",
       "    .dataframe thead th {\n",
       "        text-align: right;\n",
       "    }\n",
       "</style>\n",
       "<table border=\"1\" class=\"dataframe\">\n",
       "  <thead>\n",
       "    <tr style=\"text-align: right;\">\n",
       "      <th></th>\n",
       "      <th>Job Title</th>\n",
       "      <th>Salary Estimate</th>\n",
       "      <th>Job Description</th>\n",
       "      <th>Rating</th>\n",
       "      <th>Company Name</th>\n",
       "      <th>Location</th>\n",
       "      <th>Headquarters</th>\n",
       "      <th>Size</th>\n",
       "      <th>Founded</th>\n",
       "      <th>Type of ownership</th>\n",
       "      <th>...</th>\n",
       "      <th>avg_salary</th>\n",
       "      <th>company_txt</th>\n",
       "      <th>job_state</th>\n",
       "      <th>same_state</th>\n",
       "      <th>age</th>\n",
       "      <th>python_yn</th>\n",
       "      <th>R_yn</th>\n",
       "      <th>spark_yn</th>\n",
       "      <th>aws_yn</th>\n",
       "      <th>excel_yn</th>\n",
       "    </tr>\n",
       "  </thead>\n",
       "  <tbody>\n",
       "    <tr>\n",
       "      <th>0</th>\n",
       "      <td>Data Scientist</td>\n",
       "      <td>$53K-$91K (Glassdoor est.)</td>\n",
       "      <td>Data Scientist\\nLocation: Albuquerque, NM\\nEdu...</td>\n",
       "      <td>3.8</td>\n",
       "      <td>Tecolote Research\\n3.8</td>\n",
       "      <td>Albuquerque, NM</td>\n",
       "      <td>Goleta, CA</td>\n",
       "      <td>501 to 1000 employees</td>\n",
       "      <td>1973</td>\n",
       "      <td>Company - Private</td>\n",
       "      <td>...</td>\n",
       "      <td>72.0</td>\n",
       "      <td>Tecolote Research\\n</td>\n",
       "      <td>NM</td>\n",
       "      <td>0</td>\n",
       "      <td>49</td>\n",
       "      <td>1</td>\n",
       "      <td>0</td>\n",
       "      <td>0</td>\n",
       "      <td>0</td>\n",
       "      <td>1</td>\n",
       "    </tr>\n",
       "    <tr>\n",
       "      <th>1</th>\n",
       "      <td>Healthcare Data Scientist</td>\n",
       "      <td>$63K-$112K (Glassdoor est.)</td>\n",
       "      <td>What You Will Do:\\n\\nI. General Summary\\n\\nThe...</td>\n",
       "      <td>3.4</td>\n",
       "      <td>University of Maryland Medical System\\n3.4</td>\n",
       "      <td>Linthicum, MD</td>\n",
       "      <td>Baltimore, MD</td>\n",
       "      <td>10000+ employees</td>\n",
       "      <td>1984</td>\n",
       "      <td>Other Organization</td>\n",
       "      <td>...</td>\n",
       "      <td>87.5</td>\n",
       "      <td>University of Maryland Medical System\\n</td>\n",
       "      <td>MD</td>\n",
       "      <td>0</td>\n",
       "      <td>38</td>\n",
       "      <td>1</td>\n",
       "      <td>0</td>\n",
       "      <td>0</td>\n",
       "      <td>0</td>\n",
       "      <td>0</td>\n",
       "    </tr>\n",
       "    <tr>\n",
       "      <th>2</th>\n",
       "      <td>Data Scientist</td>\n",
       "      <td>$80K-$90K (Glassdoor est.)</td>\n",
       "      <td>KnowBe4, Inc. is a high growth information sec...</td>\n",
       "      <td>4.8</td>\n",
       "      <td>KnowBe4\\n4.8</td>\n",
       "      <td>Clearwater, FL</td>\n",
       "      <td>Clearwater, FL</td>\n",
       "      <td>501 to 1000 employees</td>\n",
       "      <td>2010</td>\n",
       "      <td>Company - Private</td>\n",
       "      <td>...</td>\n",
       "      <td>85.0</td>\n",
       "      <td>KnowBe4\\n</td>\n",
       "      <td>FL</td>\n",
       "      <td>1</td>\n",
       "      <td>12</td>\n",
       "      <td>1</td>\n",
       "      <td>0</td>\n",
       "      <td>1</td>\n",
       "      <td>0</td>\n",
       "      <td>1</td>\n",
       "    </tr>\n",
       "    <tr>\n",
       "      <th>3</th>\n",
       "      <td>Data Scientist</td>\n",
       "      <td>$56K-$97K (Glassdoor est.)</td>\n",
       "      <td>*Organization and Job ID**\\nJob ID: 310709\\n\\n...</td>\n",
       "      <td>3.8</td>\n",
       "      <td>PNNL\\n3.8</td>\n",
       "      <td>Richland, WA</td>\n",
       "      <td>Richland, WA</td>\n",
       "      <td>1001 to 5000 employees</td>\n",
       "      <td>1965</td>\n",
       "      <td>Government</td>\n",
       "      <td>...</td>\n",
       "      <td>76.5</td>\n",
       "      <td>PNNL\\n</td>\n",
       "      <td>WA</td>\n",
       "      <td>1</td>\n",
       "      <td>57</td>\n",
       "      <td>1</td>\n",
       "      <td>0</td>\n",
       "      <td>0</td>\n",
       "      <td>0</td>\n",
       "      <td>0</td>\n",
       "    </tr>\n",
       "    <tr>\n",
       "      <th>4</th>\n",
       "      <td>Data Scientist</td>\n",
       "      <td>$86K-$143K (Glassdoor est.)</td>\n",
       "      <td>Data Scientist\\nAffinity Solutions / Marketing...</td>\n",
       "      <td>2.9</td>\n",
       "      <td>Affinity Solutions\\n2.9</td>\n",
       "      <td>New York, NY</td>\n",
       "      <td>New York, NY</td>\n",
       "      <td>51 to 200 employees</td>\n",
       "      <td>1998</td>\n",
       "      <td>Company - Private</td>\n",
       "      <td>...</td>\n",
       "      <td>114.5</td>\n",
       "      <td>Affinity Solutions\\n</td>\n",
       "      <td>NY</td>\n",
       "      <td>1</td>\n",
       "      <td>24</td>\n",
       "      <td>1</td>\n",
       "      <td>0</td>\n",
       "      <td>0</td>\n",
       "      <td>0</td>\n",
       "      <td>1</td>\n",
       "    </tr>\n",
       "  </tbody>\n",
       "</table>\n",
       "<p>5 rows × 28 columns</p>\n",
       "</div>"
      ],
      "text/plain": [
       "                   Job Title              Salary Estimate  \\\n",
       "0             Data Scientist   $53K-$91K (Glassdoor est.)   \n",
       "1  Healthcare Data Scientist  $63K-$112K (Glassdoor est.)   \n",
       "2             Data Scientist   $80K-$90K (Glassdoor est.)   \n",
       "3             Data Scientist   $56K-$97K (Glassdoor est.)   \n",
       "4             Data Scientist  $86K-$143K (Glassdoor est.)   \n",
       "\n",
       "                                     Job Description  Rating  \\\n",
       "0  Data Scientist\\nLocation: Albuquerque, NM\\nEdu...     3.8   \n",
       "1  What You Will Do:\\n\\nI. General Summary\\n\\nThe...     3.4   \n",
       "2  KnowBe4, Inc. is a high growth information sec...     4.8   \n",
       "3  *Organization and Job ID**\\nJob ID: 310709\\n\\n...     3.8   \n",
       "4  Data Scientist\\nAffinity Solutions / Marketing...     2.9   \n",
       "\n",
       "                                 Company Name         Location  \\\n",
       "0                      Tecolote Research\\n3.8  Albuquerque, NM   \n",
       "1  University of Maryland Medical System\\n3.4    Linthicum, MD   \n",
       "2                                KnowBe4\\n4.8   Clearwater, FL   \n",
       "3                                   PNNL\\n3.8     Richland, WA   \n",
       "4                     Affinity Solutions\\n2.9     New York, NY   \n",
       "\n",
       "     Headquarters                    Size  Founded   Type of ownership  ...  \\\n",
       "0      Goleta, CA   501 to 1000 employees     1973   Company - Private  ...   \n",
       "1   Baltimore, MD        10000+ employees     1984  Other Organization  ...   \n",
       "2  Clearwater, FL   501 to 1000 employees     2010   Company - Private  ...   \n",
       "3    Richland, WA  1001 to 5000 employees     1965          Government  ...   \n",
       "4    New York, NY     51 to 200 employees     1998   Company - Private  ...   \n",
       "\n",
       "  avg_salary                              company_txt job_state same_state  \\\n",
       "0       72.0                      Tecolote Research\\n        NM          0   \n",
       "1       87.5  University of Maryland Medical System\\n        MD          0   \n",
       "2       85.0                                KnowBe4\\n        FL          1   \n",
       "3       76.5                                   PNNL\\n        WA          1   \n",
       "4      114.5                     Affinity Solutions\\n        NY          1   \n",
       "\n",
       "   age  python_yn  R_yn  spark_yn  aws_yn excel_yn  \n",
       "0   49          1     0         0       0        1  \n",
       "1   38          1     0         0       0        0  \n",
       "2   12          1     0         1       0        1  \n",
       "3   57          1     0         0       0        0  \n",
       "4   24          1     0         0       0        1  \n",
       "\n",
       "[5 rows x 28 columns]"
      ]
     },
     "execution_count": 3,
     "metadata": {},
     "output_type": "execute_result"
    }
   ],
   "source": [
    "df.head()"
   ]
  },
  {
   "cell_type": "code",
   "execution_count": 4,
   "id": "3aad4ee9-8d56-4773-89b6-d055c06bbf2c",
   "metadata": {},
   "outputs": [
    {
     "data": {
      "text/plain": [
       "Index(['Job Title', 'Salary Estimate', 'Job Description', 'Rating',\n",
       "       'Company Name', 'Location', 'Headquarters', 'Size', 'Founded',\n",
       "       'Type of ownership', 'Industry', 'Sector', 'Revenue', 'Competitors',\n",
       "       'hourly', 'employer_provided', 'min_salary', 'max_salary', 'avg_salary',\n",
       "       'company_txt', 'job_state', 'same_state', 'age', 'python_yn', 'R_yn',\n",
       "       'spark_yn', 'aws_yn', 'excel_yn'],\n",
       "      dtype='object')"
      ]
     },
     "execution_count": 4,
     "metadata": {},
     "output_type": "execute_result"
    }
   ],
   "source": [
    "df.columns"
   ]
  },
  {
   "cell_type": "code",
   "execution_count": 5,
   "id": "3d9f4484-71ec-4fd2-8b0f-5036a07818cd",
   "metadata": {},
   "outputs": [],
   "source": [
    "def title_simplifier(title):\n",
    "    if 'data scientist' in title.lower():\n",
    "        return 'data scientist'\n",
    "    elif 'data engineer' in title.lower():\n",
    "        return 'data engineer'\n",
    "    elif 'analyst' in title.lower():\n",
    "        return 'analyst'\n",
    "    elif 'machine learning' in title.lower():\n",
    "        return 'mle'\n",
    "    elif 'manager' in title.lower():\n",
    "        return 'manager'\n",
    "    elif 'director' in title.lower():\n",
    "        return 'director'\n",
    "    else:\n",
    "        return 'na'\n",
    "    \n",
    "def seniority(title):\n",
    "    if 'sr' in title.lower() or 'senior' in title.lower() or 'sr' in title.lower() or 'lead' in title.lower() or 'principal' in title.lower():\n",
    "            return 'senior'\n",
    "    elif 'jr' in title.lower() or 'jr.' in title.lower():\n",
    "        return 'jr'\n",
    "    else:\n",
    "        return 'na'\n",
    "\t\t\n",
    "## Job title and seniority \n",
    "\t\t\n",
    "##  Fix state Los Angeles \n",
    "\n",
    "##  Job description length \n",
    "\n",
    "##  Competitor count\n",
    "\n",
    "## hourly wage to annual \n",
    "\n",
    "#remove new line from job title"
   ]
  },
  {
   "cell_type": "code",
   "execution_count": 6,
   "id": "6e61a88f-b10a-4ee2-b247-cae01deae27f",
   "metadata": {},
   "outputs": [],
   "source": [
    "df['job_simp'] = df['Job Title'].apply(title_simplifier)"
   ]
  },
  {
   "cell_type": "code",
   "execution_count": 7,
   "id": "557f4ebd-e4b2-4086-a0d5-58ee3ebbf39f",
   "metadata": {},
   "outputs": [
    {
     "data": {
      "text/plain": [
       "data scientist    279\n",
       "na                184\n",
       "data engineer     119\n",
       "analyst           102\n",
       "manager            22\n",
       "mle                22\n",
       "director           14\n",
       "Name: job_simp, dtype: int64"
      ]
     },
     "execution_count": 7,
     "metadata": {},
     "output_type": "execute_result"
    }
   ],
   "source": [
    "df.job_simp.value_counts()"
   ]
  },
  {
   "cell_type": "code",
   "execution_count": 8,
   "id": "d3dac0ca-599b-41d8-b8dc-f6870baf22f0",
   "metadata": {},
   "outputs": [],
   "source": [
    "df['seniority'] = df['Job Title'].apply(seniority)"
   ]
  },
  {
   "cell_type": "code",
   "execution_count": 9,
   "id": "6f5abbcb-66ec-4046-8df5-77a853879a8c",
   "metadata": {},
   "outputs": [
    {
     "data": {
      "text/plain": [
       "na        520\n",
       "senior    220\n",
       "jr          2\n",
       "Name: seniority, dtype: int64"
      ]
     },
     "execution_count": 9,
     "metadata": {},
     "output_type": "execute_result"
    }
   ],
   "source": [
    "df.seniority.value_counts()"
   ]
  },
  {
   "cell_type": "code",
   "execution_count": 10,
   "id": "a72e2efa-305c-46e8-aca8-f86101ca87ff",
   "metadata": {
    "tags": []
   },
   "outputs": [
    {
     "data": {
      "text/plain": [
       "CA    152\n",
       "MA    103\n",
       "NY     72\n",
       "VA     41\n",
       "IL     40\n",
       "MD     35\n",
       "PA     33\n",
       "TX     28\n",
       "NC     21\n",
       "WA     21\n",
       "NJ     17\n",
       "FL     16\n",
       "OH     14\n",
       "TN     13\n",
       "DC     11\n",
       "CO     11\n",
       "WI     10\n",
       "UT     10\n",
       "IN     10\n",
       "AZ      9\n",
       "MO      9\n",
       "AL      8\n",
       "GA      6\n",
       "DE      6\n",
       "KY      6\n",
       "MI      6\n",
       "CT      5\n",
       "IA      5\n",
       "LA      4\n",
       "OR      4\n",
       "NE      4\n",
       "NM      3\n",
       "KS      3\n",
       "ID      2\n",
       "MN      2\n",
       "RI      1\n",
       "SC      1\n",
       "Name: job_state, dtype: int64"
      ]
     },
     "execution_count": 10,
     "metadata": {},
     "output_type": "execute_result"
    }
   ],
   "source": [
    "# fix state los angeles\n",
    "df['job_state'] = df.job_state.apply(lambda x: x.strip() if x.strip().lower() != 'los angeles' else 'CA' )\n",
    "df.job_state.value_counts()\n",
    "# df.drop['job state']"
   ]
  },
  {
   "cell_type": "code",
   "execution_count": 11,
   "id": "06b99935-7cf8-4f3f-a5c4-dca6b1919872",
   "metadata": {
    "tags": []
   },
   "outputs": [
    {
     "data": {
      "text/plain": [
       "0      2536\n",
       "1      4783\n",
       "2      3461\n",
       "3      3883\n",
       "4      2728\n",
       "       ... \n",
       "737    6162\n",
       "738    6130\n",
       "739    3078\n",
       "740    1642\n",
       "741    3673\n",
       "Name: desc_len, Length: 742, dtype: int64"
      ]
     },
     "execution_count": 11,
     "metadata": {},
     "output_type": "execute_result"
    }
   ],
   "source": [
    "# find the job description length\n",
    "df['desc_len'] = df['Job Description'].apply(lambda x: len(x))\n",
    "df['desc_len']"
   ]
  },
  {
   "cell_type": "code",
   "execution_count": 12,
   "id": "148d4598-2fdc-4ec6-930b-6b1d15dee739",
   "metadata": {},
   "outputs": [],
   "source": [
    "# competitors count\n",
    "df['num_comp'] = df['Competitors'].apply(lambda x: len(x.split(\",\")) if x != '-1' else 0)\n"
   ]
  },
  {
   "cell_type": "code",
   "execution_count": 13,
   "id": "8ba2e5bd-e83e-4721-af2e-e158d319605e",
   "metadata": {
    "tags": []
   },
   "outputs": [
    {
     "data": {
      "text/plain": [
       "0      0\n",
       "1      0\n",
       "2      0\n",
       "3      3\n",
       "4      3\n",
       "      ..\n",
       "737    3\n",
       "738    3\n",
       "739    0\n",
       "740    0\n",
       "741    0\n",
       "Name: num_comp, Length: 742, dtype: int64"
      ]
     },
     "execution_count": 13,
     "metadata": {},
     "output_type": "execute_result"
    }
   ],
   "source": [
    "df['num_comp'] "
   ]
  },
  {
   "cell_type": "code",
   "execution_count": 14,
   "id": "a335f788-d408-42f2-8db2-c790f831ef5a",
   "metadata": {},
   "outputs": [],
   "source": [
    "# hourly wage into an annual wage\n",
    "df['min_salary'] = df.apply(lambda x: x.min_salary*2 if x.hourly ==1 else x.min_salary, axis=1)"
   ]
  },
  {
   "cell_type": "code",
   "execution_count": 15,
   "id": "76ba4853-ebae-4fb1-ac8f-127f7352e8f3",
   "metadata": {},
   "outputs": [],
   "source": [
    "df['max_salary'] = df.apply(lambda x: x.max_salary*2 if x.hourly ==1 else x.max_salary, axis=1)"
   ]
  },
  {
   "cell_type": "code",
   "execution_count": 16,
   "id": "4a10740d-791b-4f0b-b887-673a00f57088",
   "metadata": {
    "tags": []
   },
   "outputs": [
    {
     "data": {
      "text/html": [
       "<div>\n",
       "<style scoped>\n",
       "    .dataframe tbody tr th:only-of-type {\n",
       "        vertical-align: middle;\n",
       "    }\n",
       "\n",
       "    .dataframe tbody tr th {\n",
       "        vertical-align: top;\n",
       "    }\n",
       "\n",
       "    .dataframe thead th {\n",
       "        text-align: right;\n",
       "    }\n",
       "</style>\n",
       "<table border=\"1\" class=\"dataframe\">\n",
       "  <thead>\n",
       "    <tr style=\"text-align: right;\">\n",
       "      <th></th>\n",
       "      <th>hourly</th>\n",
       "      <th>min_salary</th>\n",
       "      <th>max_salary</th>\n",
       "    </tr>\n",
       "  </thead>\n",
       "  <tbody>\n",
       "    <tr>\n",
       "      <th>165</th>\n",
       "      <td>1</td>\n",
       "      <td>34</td>\n",
       "      <td>48</td>\n",
       "    </tr>\n",
       "    <tr>\n",
       "      <th>177</th>\n",
       "      <td>1</td>\n",
       "      <td>42</td>\n",
       "      <td>68</td>\n",
       "    </tr>\n",
       "    <tr>\n",
       "      <th>197</th>\n",
       "      <td>1</td>\n",
       "      <td>36</td>\n",
       "      <td>50</td>\n",
       "    </tr>\n",
       "    <tr>\n",
       "      <th>202</th>\n",
       "      <td>1</td>\n",
       "      <td>42</td>\n",
       "      <td>68</td>\n",
       "    </tr>\n",
       "    <tr>\n",
       "      <th>210</th>\n",
       "      <td>1</td>\n",
       "      <td>30</td>\n",
       "      <td>50</td>\n",
       "    </tr>\n",
       "    <tr>\n",
       "      <th>246</th>\n",
       "      <td>1</td>\n",
       "      <td>34</td>\n",
       "      <td>48</td>\n",
       "    </tr>\n",
       "    <tr>\n",
       "      <th>271</th>\n",
       "      <td>1</td>\n",
       "      <td>42</td>\n",
       "      <td>68</td>\n",
       "    </tr>\n",
       "    <tr>\n",
       "      <th>337</th>\n",
       "      <td>1</td>\n",
       "      <td>36</td>\n",
       "      <td>50</td>\n",
       "    </tr>\n",
       "    <tr>\n",
       "      <th>345</th>\n",
       "      <td>1</td>\n",
       "      <td>48</td>\n",
       "      <td>78</td>\n",
       "    </tr>\n",
       "    <tr>\n",
       "      <th>357</th>\n",
       "      <td>1</td>\n",
       "      <td>42</td>\n",
       "      <td>68</td>\n",
       "    </tr>\n",
       "    <tr>\n",
       "      <th>363</th>\n",
       "      <td>1</td>\n",
       "      <td>50</td>\n",
       "      <td>56</td>\n",
       "    </tr>\n",
       "    <tr>\n",
       "      <th>408</th>\n",
       "      <td>1</td>\n",
       "      <td>42</td>\n",
       "      <td>58</td>\n",
       "    </tr>\n",
       "    <tr>\n",
       "      <th>409</th>\n",
       "      <td>1</td>\n",
       "      <td>20</td>\n",
       "      <td>34</td>\n",
       "    </tr>\n",
       "    <tr>\n",
       "      <th>492</th>\n",
       "      <td>1</td>\n",
       "      <td>36</td>\n",
       "      <td>50</td>\n",
       "    </tr>\n",
       "    <tr>\n",
       "      <th>509</th>\n",
       "      <td>1</td>\n",
       "      <td>48</td>\n",
       "      <td>78</td>\n",
       "    </tr>\n",
       "    <tr>\n",
       "      <th>533</th>\n",
       "      <td>1</td>\n",
       "      <td>42</td>\n",
       "      <td>68</td>\n",
       "    </tr>\n",
       "    <tr>\n",
       "      <th>542</th>\n",
       "      <td>1</td>\n",
       "      <td>50</td>\n",
       "      <td>56</td>\n",
       "    </tr>\n",
       "    <tr>\n",
       "      <th>617</th>\n",
       "      <td>1</td>\n",
       "      <td>42</td>\n",
       "      <td>58</td>\n",
       "    </tr>\n",
       "    <tr>\n",
       "      <th>618</th>\n",
       "      <td>1</td>\n",
       "      <td>20</td>\n",
       "      <td>34</td>\n",
       "    </tr>\n",
       "    <tr>\n",
       "      <th>645</th>\n",
       "      <td>1</td>\n",
       "      <td>54</td>\n",
       "      <td>94</td>\n",
       "    </tr>\n",
       "    <tr>\n",
       "      <th>666</th>\n",
       "      <td>1</td>\n",
       "      <td>36</td>\n",
       "      <td>50</td>\n",
       "    </tr>\n",
       "    <tr>\n",
       "      <th>682</th>\n",
       "      <td>1</td>\n",
       "      <td>48</td>\n",
       "      <td>78</td>\n",
       "    </tr>\n",
       "    <tr>\n",
       "      <th>711</th>\n",
       "      <td>1</td>\n",
       "      <td>42</td>\n",
       "      <td>68</td>\n",
       "    </tr>\n",
       "    <tr>\n",
       "      <th>724</th>\n",
       "      <td>1</td>\n",
       "      <td>50</td>\n",
       "      <td>56</td>\n",
       "    </tr>\n",
       "  </tbody>\n",
       "</table>\n",
       "</div>"
      ],
      "text/plain": [
       "     hourly  min_salary  max_salary\n",
       "165       1          34          48\n",
       "177       1          42          68\n",
       "197       1          36          50\n",
       "202       1          42          68\n",
       "210       1          30          50\n",
       "246       1          34          48\n",
       "271       1          42          68\n",
       "337       1          36          50\n",
       "345       1          48          78\n",
       "357       1          42          68\n",
       "363       1          50          56\n",
       "408       1          42          58\n",
       "409       1          20          34\n",
       "492       1          36          50\n",
       "509       1          48          78\n",
       "533       1          42          68\n",
       "542       1          50          56\n",
       "617       1          42          58\n",
       "618       1          20          34\n",
       "645       1          54          94\n",
       "666       1          36          50\n",
       "682       1          48          78\n",
       "711       1          42          68\n",
       "724       1          50          56"
      ]
     },
     "execution_count": 16,
     "metadata": {},
     "output_type": "execute_result"
    }
   ],
   "source": [
    "df[df.hourly==1][['hourly','min_salary','max_salary']]"
   ]
  },
  {
   "cell_type": "code",
   "execution_count": 17,
   "id": "37700322-410d-4c03-9ca4-84c9f24f2613",
   "metadata": {},
   "outputs": [
    {
     "data": {
      "text/plain": [
       "Index(['Job Title', 'Salary Estimate', 'Job Description', 'Rating',\n",
       "       'Company Name', 'Location', 'Headquarters', 'Size', 'Founded',\n",
       "       'Type of ownership', 'Industry', 'Sector', 'Revenue', 'Competitors',\n",
       "       'hourly', 'employer_provided', 'min_salary', 'max_salary', 'avg_salary',\n",
       "       'company_txt', 'job_state', 'same_state', 'age', 'python_yn', 'R_yn',\n",
       "       'spark_yn', 'aws_yn', 'excel_yn', 'job_simp', 'seniority', 'desc_len',\n",
       "       'num_comp'],\n",
       "      dtype='object')"
      ]
     },
     "execution_count": 17,
     "metadata": {},
     "output_type": "execute_result"
    }
   ],
   "source": [
    "df.columns"
   ]
  },
  {
   "cell_type": "code",
   "execution_count": 18,
   "id": "4213660e-2bd7-4640-b371-e02250dcd3d2",
   "metadata": {},
   "outputs": [
    {
     "data": {
      "text/plain": [
       "0                          Tecolote Research\\n\n",
       "1      University of Maryland Medical System\\n\n",
       "2                                    KnowBe4\\n\n",
       "3                                       PNNL\\n\n",
       "4                         Affinity Solutions\\n\n",
       "                        ...                   \n",
       "737                                      GSK\\n\n",
       "738                               Eventbrite\\n\n",
       "739           Software Engineering Institute\\n\n",
       "740                             Numeric, LLC\\n\n",
       "741             Riverside Research Institute\\n\n",
       "Name: company_txt, Length: 742, dtype: object"
      ]
     },
     "execution_count": 18,
     "metadata": {},
     "output_type": "execute_result"
    }
   ],
   "source": [
    "df['company_txt']"
   ]
  },
  {
   "cell_type": "code",
   "execution_count": 21,
   "id": "cbe175a5-f5a7-4064-a154-54620cd60081",
   "metadata": {},
   "outputs": [],
   "source": [
    "df['company_txt'] = df.company_txt.apply(lambda x: x.replace('\\n',''))"
   ]
  },
  {
   "cell_type": "code",
   "execution_count": 22,
   "id": "b776bcdf-0a74-4f2f-8666-3d1c475314fe",
   "metadata": {},
   "outputs": [
    {
     "data": {
      "text/plain": [
       "0                          Tecolote Research\n",
       "1      University of Maryland Medical System\n",
       "2                                    KnowBe4\n",
       "3                                       PNNL\n",
       "4                         Affinity Solutions\n",
       "                       ...                  \n",
       "737                                      GSK\n",
       "738                               Eventbrite\n",
       "739           Software Engineering Institute\n",
       "740                             Numeric, LLC\n",
       "741             Riverside Research Institute\n",
       "Name: company_txt, Length: 742, dtype: object"
      ]
     },
     "execution_count": 22,
     "metadata": {},
     "output_type": "execute_result"
    }
   ],
   "source": [
    "df['company_txt']"
   ]
  },
  {
   "cell_type": "code",
   "execution_count": 24,
   "id": "1439c11d-78d6-47c2-bc3d-983283ed52b2",
   "metadata": {},
   "outputs": [],
   "source": [
    "# EDA"
   ]
  },
  {
   "cell_type": "code",
   "execution_count": 25,
   "id": "da300cb9-5bee-497b-8092-b509b1329a72",
   "metadata": {},
   "outputs": [
    {
     "data": {
      "text/html": [
       "<div>\n",
       "<style scoped>\n",
       "    .dataframe tbody tr th:only-of-type {\n",
       "        vertical-align: middle;\n",
       "    }\n",
       "\n",
       "    .dataframe tbody tr th {\n",
       "        vertical-align: top;\n",
       "    }\n",
       "\n",
       "    .dataframe thead th {\n",
       "        text-align: right;\n",
       "    }\n",
       "</style>\n",
       "<table border=\"1\" class=\"dataframe\">\n",
       "  <thead>\n",
       "    <tr style=\"text-align: right;\">\n",
       "      <th></th>\n",
       "      <th>Rating</th>\n",
       "      <th>Founded</th>\n",
       "      <th>hourly</th>\n",
       "      <th>employer_provided</th>\n",
       "      <th>min_salary</th>\n",
       "      <th>max_salary</th>\n",
       "      <th>avg_salary</th>\n",
       "      <th>same_state</th>\n",
       "      <th>age</th>\n",
       "      <th>python_yn</th>\n",
       "      <th>R_yn</th>\n",
       "      <th>spark_yn</th>\n",
       "      <th>aws_yn</th>\n",
       "      <th>excel_yn</th>\n",
       "      <th>desc_len</th>\n",
       "      <th>num_comp</th>\n",
       "    </tr>\n",
       "  </thead>\n",
       "  <tbody>\n",
       "    <tr>\n",
       "      <th>count</th>\n",
       "      <td>742.000000</td>\n",
       "      <td>742.000000</td>\n",
       "      <td>742.000000</td>\n",
       "      <td>742.000000</td>\n",
       "      <td>742.000000</td>\n",
       "      <td>742.000000</td>\n",
       "      <td>742.000000</td>\n",
       "      <td>742.000000</td>\n",
       "      <td>742.000000</td>\n",
       "      <td>742.000000</td>\n",
       "      <td>742.000000</td>\n",
       "      <td>742.000000</td>\n",
       "      <td>742.000000</td>\n",
       "      <td>742.000000</td>\n",
       "      <td>742.000000</td>\n",
       "      <td>742.000000</td>\n",
       "    </tr>\n",
       "    <tr>\n",
       "      <th>mean</th>\n",
       "      <td>3.618868</td>\n",
       "      <td>1837.154987</td>\n",
       "      <td>0.032345</td>\n",
       "      <td>0.022911</td>\n",
       "      <td>74.719677</td>\n",
       "      <td>128.149596</td>\n",
       "      <td>100.626011</td>\n",
       "      <td>0.557951</td>\n",
       "      <td>48.456873</td>\n",
       "      <td>0.528302</td>\n",
       "      <td>0.002695</td>\n",
       "      <td>0.225067</td>\n",
       "      <td>0.237197</td>\n",
       "      <td>0.522911</td>\n",
       "      <td>3869.545822</td>\n",
       "      <td>1.053908</td>\n",
       "    </tr>\n",
       "    <tr>\n",
       "      <th>std</th>\n",
       "      <td>0.801210</td>\n",
       "      <td>497.183763</td>\n",
       "      <td>0.177034</td>\n",
       "      <td>0.149721</td>\n",
       "      <td>30.980593</td>\n",
       "      <td>45.220324</td>\n",
       "      <td>38.855948</td>\n",
       "      <td>0.496965</td>\n",
       "      <td>53.900445</td>\n",
       "      <td>0.499535</td>\n",
       "      <td>0.051882</td>\n",
       "      <td>0.417908</td>\n",
       "      <td>0.425651</td>\n",
       "      <td>0.499812</td>\n",
       "      <td>1521.495868</td>\n",
       "      <td>1.384239</td>\n",
       "    </tr>\n",
       "    <tr>\n",
       "      <th>min</th>\n",
       "      <td>-1.000000</td>\n",
       "      <td>-1.000000</td>\n",
       "      <td>0.000000</td>\n",
       "      <td>0.000000</td>\n",
       "      <td>15.000000</td>\n",
       "      <td>16.000000</td>\n",
       "      <td>13.500000</td>\n",
       "      <td>0.000000</td>\n",
       "      <td>-1.000000</td>\n",
       "      <td>0.000000</td>\n",
       "      <td>0.000000</td>\n",
       "      <td>0.000000</td>\n",
       "      <td>0.000000</td>\n",
       "      <td>0.000000</td>\n",
       "      <td>407.000000</td>\n",
       "      <td>0.000000</td>\n",
       "    </tr>\n",
       "    <tr>\n",
       "      <th>25%</th>\n",
       "      <td>3.300000</td>\n",
       "      <td>1939.000000</td>\n",
       "      <td>0.000000</td>\n",
       "      <td>0.000000</td>\n",
       "      <td>52.000000</td>\n",
       "      <td>96.000000</td>\n",
       "      <td>73.500000</td>\n",
       "      <td>0.000000</td>\n",
       "      <td>13.000000</td>\n",
       "      <td>0.000000</td>\n",
       "      <td>0.000000</td>\n",
       "      <td>0.000000</td>\n",
       "      <td>0.000000</td>\n",
       "      <td>0.000000</td>\n",
       "      <td>2801.000000</td>\n",
       "      <td>0.000000</td>\n",
       "    </tr>\n",
       "    <tr>\n",
       "      <th>50%</th>\n",
       "      <td>3.700000</td>\n",
       "      <td>1988.000000</td>\n",
       "      <td>0.000000</td>\n",
       "      <td>0.000000</td>\n",
       "      <td>69.500000</td>\n",
       "      <td>124.000000</td>\n",
       "      <td>97.500000</td>\n",
       "      <td>1.000000</td>\n",
       "      <td>26.000000</td>\n",
       "      <td>1.000000</td>\n",
       "      <td>0.000000</td>\n",
       "      <td>0.000000</td>\n",
       "      <td>0.000000</td>\n",
       "      <td>1.000000</td>\n",
       "      <td>3731.000000</td>\n",
       "      <td>0.000000</td>\n",
       "    </tr>\n",
       "    <tr>\n",
       "      <th>75%</th>\n",
       "      <td>4.000000</td>\n",
       "      <td>2007.000000</td>\n",
       "      <td>0.000000</td>\n",
       "      <td>0.000000</td>\n",
       "      <td>91.000000</td>\n",
       "      <td>155.000000</td>\n",
       "      <td>122.500000</td>\n",
       "      <td>1.000000</td>\n",
       "      <td>61.000000</td>\n",
       "      <td>1.000000</td>\n",
       "      <td>0.000000</td>\n",
       "      <td>0.000000</td>\n",
       "      <td>0.000000</td>\n",
       "      <td>1.000000</td>\n",
       "      <td>4740.000000</td>\n",
       "      <td>3.000000</td>\n",
       "    </tr>\n",
       "    <tr>\n",
       "      <th>max</th>\n",
       "      <td>5.000000</td>\n",
       "      <td>2019.000000</td>\n",
       "      <td>1.000000</td>\n",
       "      <td>1.000000</td>\n",
       "      <td>202.000000</td>\n",
       "      <td>306.000000</td>\n",
       "      <td>254.000000</td>\n",
       "      <td>1.000000</td>\n",
       "      <td>278.000000</td>\n",
       "      <td>1.000000</td>\n",
       "      <td>1.000000</td>\n",
       "      <td>1.000000</td>\n",
       "      <td>1.000000</td>\n",
       "      <td>1.000000</td>\n",
       "      <td>10051.000000</td>\n",
       "      <td>4.000000</td>\n",
       "    </tr>\n",
       "  </tbody>\n",
       "</table>\n",
       "</div>"
      ],
      "text/plain": [
       "           Rating      Founded      hourly  employer_provided  min_salary  \\\n",
       "count  742.000000   742.000000  742.000000         742.000000  742.000000   \n",
       "mean     3.618868  1837.154987    0.032345           0.022911   74.719677   \n",
       "std      0.801210   497.183763    0.177034           0.149721   30.980593   \n",
       "min     -1.000000    -1.000000    0.000000           0.000000   15.000000   \n",
       "25%      3.300000  1939.000000    0.000000           0.000000   52.000000   \n",
       "50%      3.700000  1988.000000    0.000000           0.000000   69.500000   \n",
       "75%      4.000000  2007.000000    0.000000           0.000000   91.000000   \n",
       "max      5.000000  2019.000000    1.000000           1.000000  202.000000   \n",
       "\n",
       "       max_salary  avg_salary  same_state         age   python_yn        R_yn  \\\n",
       "count  742.000000  742.000000  742.000000  742.000000  742.000000  742.000000   \n",
       "mean   128.149596  100.626011    0.557951   48.456873    0.528302    0.002695   \n",
       "std     45.220324   38.855948    0.496965   53.900445    0.499535    0.051882   \n",
       "min     16.000000   13.500000    0.000000   -1.000000    0.000000    0.000000   \n",
       "25%     96.000000   73.500000    0.000000   13.000000    0.000000    0.000000   \n",
       "50%    124.000000   97.500000    1.000000   26.000000    1.000000    0.000000   \n",
       "75%    155.000000  122.500000    1.000000   61.000000    1.000000    0.000000   \n",
       "max    306.000000  254.000000    1.000000  278.000000    1.000000    1.000000   \n",
       "\n",
       "         spark_yn      aws_yn    excel_yn      desc_len    num_comp  \n",
       "count  742.000000  742.000000  742.000000    742.000000  742.000000  \n",
       "mean     0.225067    0.237197    0.522911   3869.545822    1.053908  \n",
       "std      0.417908    0.425651    0.499812   1521.495868    1.384239  \n",
       "min      0.000000    0.000000    0.000000    407.000000    0.000000  \n",
       "25%      0.000000    0.000000    0.000000   2801.000000    0.000000  \n",
       "50%      0.000000    0.000000    1.000000   3731.000000    0.000000  \n",
       "75%      0.000000    0.000000    1.000000   4740.000000    3.000000  \n",
       "max      1.000000    1.000000    1.000000  10051.000000    4.000000  "
      ]
     },
     "execution_count": 25,
     "metadata": {},
     "output_type": "execute_result"
    }
   ],
   "source": [
    "df.describe()"
   ]
  },
  {
   "cell_type": "code",
   "execution_count": 26,
   "id": "e7975b5a-c7ad-4a56-b22f-0c4b52ae00d4",
   "metadata": {},
   "outputs": [
    {
     "data": {
      "text/plain": [
       "Index(['Job Title', 'Salary Estimate', 'Job Description', 'Rating',\n",
       "       'Company Name', 'Location', 'Headquarters', 'Size', 'Founded',\n",
       "       'Type of ownership', 'Industry', 'Sector', 'Revenue', 'Competitors',\n",
       "       'hourly', 'employer_provided', 'min_salary', 'max_salary', 'avg_salary',\n",
       "       'company_txt', 'job_state', 'same_state', 'age', 'python_yn', 'R_yn',\n",
       "       'spark_yn', 'aws_yn', 'excel_yn', 'job_simp', 'seniority', 'desc_len',\n",
       "       'num_comp'],\n",
       "      dtype='object')"
      ]
     },
     "execution_count": 26,
     "metadata": {},
     "output_type": "execute_result"
    }
   ],
   "source": [
    "df.columns"
   ]
  },
  {
   "cell_type": "code",
   "execution_count": 27,
   "id": "357d5d45-f64a-446b-9c5b-0f4a29f6c6c0",
   "metadata": {},
   "outputs": [
    {
     "data": {
      "text/plain": [
       "<AxesSubplot:>"
      ]
     },
     "execution_count": 27,
     "metadata": {},
     "output_type": "execute_result"
    },
    {
     "data": {
      "image/png": "[encoded data removed]",
      "text/plain": [
       "<Figure size 432x288 with 1 Axes>"
      ]
     },
     "metadata": {
      "needs_background": "light"
     },
     "output_type": "display_data"
    }
   ],
   "source": [
    "df.Rating.hist()"
   ]
  },
  {
   "cell_type": "code",
   "execution_count": null,
   "id": "0216ebc6-97aa-4675-a07a-19a7b05f19a1",
   "metadata": {},
   "outputs": [],
   "source": []
  }
 ],
 "metadata": {
  "kernelspec": {
   "display_name": "Python 3 (ipykernel)",
   "language": "python",
   "name": "python3"
  },
  "language_info": {
   "codemirror_mode": {
    "name": "ipython",
    "version": 3
   },
   "file_extension": ".py",
   "mimetype": "text/x-python",
   "name": "python",
   "nbconvert_exporter": "python",
   "pygments_lexer": "ipython3",
   "version": "3.10.8"
  }
 },
 "nbformat": 4,
 "nbformat_minor": 5
}
