{
 "cells": [
  {
   "cell_type": "code",
   "execution_count": null,
   "id": "9cf8010b-40c7-42fa-bda9-3d6d90c9d7d1",
   "metadata": {},
   "outputs": [],
   "source": [
    "import pandas as pd\n",
    "import matplotlib.pyplot as plt\n",
    "import seaborn as sns\n",
    "sns.set_style('whitegrid')\n",
    "import pandas_profiling"
   ]
  },
  {
   "cell_type": "code",
   "execution_count": null,
   "id": "2273958a-5b0c-4f63-8897-5ae7c7a17285",
   "metadata": {},
   "outputs": [],
   "source": [
    "df = pd.read_csv(\"glassdoor_jobs.csv\")"
   ]
  },
  {
   "cell_type": "code",
   "execution_count": null,
   "id": "656d9fca-9484-4a19-862f-85dc40eddcec",
   "metadata": {
    "tags": []
   },
   "outputs": [],
   "source": [
    "df.head(100)"
   ]
  },
  {
   "cell_type": "code",
   "execution_count": null,
   "id": "8cec5b01-4d6c-4f19-9770-382bfdbdf37a",
   "metadata": {
    "tags": []
   },
   "outputs": [],
   "source": [
    "plt.figure(figsize=(20,5))\n",
    "sns.heatmap(df.isnull(),yticklabels=False,cbar=False,cmap='viridis')\n",
    "plt.plot"
   ]
  },
  {
   "cell_type": "code",
   "execution_count": null,
   "id": "db76a72d-d95e-4089-9fa2-72a52d908fbe",
   "metadata": {
    "tags": []
   },
   "outputs": [],
   "source": [
    "# pandas_profiling.ProfileReport(df)"
   ]
  },
  {
   "cell_type": "code",
   "execution_count": null,
   "id": "14778fee-2285-4ec2-a6f1-010b307d7df7",
   "metadata": {},
   "outputs": [],
   "source": [
    "df = df[df['Salary Estimate'] !='-1']"
   ]
  },
  {
   "cell_type": "code",
   "execution_count": null,
   "id": "68806bdd-b9a4-44cc-86a3-39f92122142b",
   "metadata": {},
   "outputs": [],
   "source": [
    "# removing the glassdoor text in salary estimate column\n",
    "salary = df['Salary Estimate'].apply(lambda x: x.split('(')[0])"
   ]
  },
  {
   "cell_type": "code",
   "execution_count": null,
   "id": "9d0fae3c-d1b2-401a-a6c2-9f569b382f51",
   "metadata": {},
   "outputs": [],
   "source": [
    "# removing dollar signs on salary\n",
    "minus_kd = salary.apply(lambda x: x.replace('K','').replace('$',''))"
   ]
  },
  {
   "cell_type": "code",
   "execution_count": null,
   "id": "a3692751-6713-48a5-b002-2ae4ebbfd897",
   "metadata": {},
   "outputs": [],
   "source": [
    "# creating a new per hour column from salary estimated hourly or not\n",
    "df['hourly'] = df['Salary Estimate'].apply(lambda x: 1 if 'per hour' in x.lower() else 0 )"
   ]
  },
  {
   "cell_type": "code",
   "execution_count": null,
   "id": "bfca471a-9b71-4f6e-85f1-39f94c3975de",
   "metadata": {},
   "outputs": [],
   "source": [
    "# creating a new employer provided column from salary estimated\n",
    "df['employer_provided'] = df['Salary Estimate'].apply(lambda x: 1 if 'employer provided salary:' in x.lower() else 0 )"
   ]
  },
  {
   "cell_type": "code",
   "execution_count": null,
   "id": "fb58e34d-9723-4957-845a-ff6810f4f76e",
   "metadata": {
    "tags": []
   },
   "outputs": [],
   "source": [
    "df.head(80)"
   ]
  },
  {
   "cell_type": "code",
   "execution_count": null,
   "id": "4028ff96-6f32-437c-bd62-6fc057d8296d",
   "metadata": {},
   "outputs": [],
   "source": [
    "df['employer_provided'].unique()"
   ]
  },
  {
   "cell_type": "code",
   "execution_count": null,
   "id": "afd1c787-f0d2-456f-8863-d5d5060bd9b1",
   "metadata": {},
   "outputs": [],
   "source": [
    "min_her = minus_kd.apply(lambda x: x.lower().replace(\"per hour\",\"\").replace(\"employer provided salary:\",\"\"))"
   ]
  },
  {
   "cell_type": "code",
   "execution_count": null,
   "id": "cac00423-ce16-41cc-8b7a-239e335ef572",
   "metadata": {},
   "outputs": [],
   "source": [
    "df['min_salary'] = min_her.apply(lambda x: int(x.split('-')[0]))"
   ]
  },
  {
   "cell_type": "code",
   "execution_count": null,
   "id": "f0d1fad5-ce56-4f1d-adfd-11c5bac40769",
   "metadata": {},
   "outputs": [],
   "source": [
    "df['max_salary'] = min_her.apply(lambda x: int(x.split('-')[1]))"
   ]
  },
  {
   "cell_type": "code",
   "execution_count": null,
   "id": "57b238c2-d4b4-4427-b014-a157bdcb9bcb",
   "metadata": {},
   "outputs": [],
   "source": [
    "df['avg_salary'] = (df.min_salary + df.max_salary)/2"
   ]
  },
  {
   "cell_type": "code",
   "execution_count": null,
   "id": "a11a51f8-b172-4878-ad90-7f9468181680",
   "metadata": {
    "tags": []
   },
   "outputs": [],
   "source": [
    "df.head()"
   ]
  },
  {
   "cell_type": "code",
   "execution_count": null,
   "id": "9fc5095e-aa0d-45dc-8c8a-1fb172d98ab5",
   "metadata": {},
   "outputs": [],
   "source": [
    "# company name"
   ]
  },
  {
   "cell_type": "code",
   "execution_count": null,
   "id": "89c32ab8-7263-4b0f-bcfd-ba722f7d4c99",
   "metadata": {},
   "outputs": [],
   "source": [
    "df['company_txt'] = df.apply(lambda x: x['Company Name'] if x['Rating'] <0 else x['Company Name'][:-3], axis = 1)"
   ]
  },
  {
   "cell_type": "code",
   "execution_count": null,
   "id": "ae1fa52e-47e5-43cd-8b15-10eeadb591d5",
   "metadata": {},
   "outputs": [],
   "source": [
    "df['company_txt']"
   ]
  },
  {
   "cell_type": "code",
   "execution_count": null,
   "id": "4ba4a93c-2f15-4632-81c6-232b1cf10175",
   "metadata": {},
   "outputs": [],
   "source": [
    "# getting state"
   ]
  },
  {
   "cell_type": "code",
   "execution_count": null,
   "id": "295a8f89-ce66-4ccb-8e33-2af46397d1e8",
   "metadata": {},
   "outputs": [],
   "source": [
    "df['job_state'] = df['Location'].apply(lambda x: x.split(',')[1])"
   ]
  },
  {
   "cell_type": "code",
   "execution_count": null,
   "id": "774fc294-2410-4475-aa38-ccf05cd0abf0",
   "metadata": {
    "tags": []
   },
   "outputs": [],
   "source": [
    "df.job_state.value_counts()"
   ]
  },
  {
   "cell_type": "code",
   "execution_count": null,
   "id": "6c0fc2e7-6385-42c1-9c79-921349527c0c",
   "metadata": {},
   "outputs": [],
   "source": [
    "# same state"
   ]
  },
  {
   "cell_type": "code",
   "execution_count": null,
   "id": "de76f320-ca45-4116-ab78-744323ec4376",
   "metadata": {},
   "outputs": [],
   "source": [
    "df['same_state'] = df.apply(lambda x: 1 if x.Location == x.Headquarters else 0, axis=1)"
   ]
  },
  {
   "cell_type": "code",
   "execution_count": null,
   "id": "e7e2b314-f9f9-4cad-8b5b-fd6d15555fb7",
   "metadata": {},
   "outputs": [],
   "source": [
    "# age of the company"
   ]
  },
  {
   "cell_type": "code",
   "execution_count": null,
   "id": "4a7407e0-1e7f-4406-a90c-f84cd6526a48",
   "metadata": {},
   "outputs": [],
   "source": [
    "df['age'] = df.Founded.apply(lambda x: x if x<1 else 2022 - x)"
   ]
  },
  {
   "cell_type": "code",
   "execution_count": null,
   "id": "018e5a7b-4ee3-4a47-9be6-ffc702a2c6b1",
   "metadata": {},
   "outputs": [],
   "source": [
    "# checking for requriments for jobs\n",
    "#python"
   ]
  },
  {
   "cell_type": "code",
   "execution_count": null,
   "id": "27912496-4f78-4f26-b5c4-388bb986c10b",
   "metadata": {},
   "outputs": [],
   "source": [
    "df['python_yn'] = df['Job Description'].apply(lambda x: 1 if 'python' in x.lower() else 0)"
   ]
  },
  {
   "cell_type": "code",
   "execution_count": null,
   "id": "135a5e9b-a11f-4004-8962-7c9bf422e713",
   "metadata": {
    "tags": []
   },
   "outputs": [],
   "source": [
    "df.python_yn.value_counts()"
   ]
  },
  {
   "cell_type": "code",
   "execution_count": null,
   "id": "d1209822-15c3-4fe1-8309-50fad19f648a",
   "metadata": {},
   "outputs": [],
   "source": [
    "# r studio"
   ]
  },
  {
   "cell_type": "code",
   "execution_count": null,
   "id": "b35f7f9d-007e-4698-ac0a-455f9f75ede5",
   "metadata": {},
   "outputs": [],
   "source": [
    "df['R_yn'] = df['Job Description'].apply(lambda x: 1 if 'r studio' in x.lower() or 'r-studio' in x.lower() else 0)"
   ]
  },
  {
   "cell_type": "code",
   "execution_count": null,
   "id": "a4796350-d713-441c-9b90-6f71b8ebee20",
   "metadata": {
    "tags": []
   },
   "outputs": [],
   "source": [
    "df.R_yn.value_counts()"
   ]
  },
  {
   "cell_type": "code",
   "execution_count": null,
   "id": "61d5de34-830d-4a91-83a0-1f210e2614bf",
   "metadata": {},
   "outputs": [],
   "source": [
    "# spark"
   ]
  },
  {
   "cell_type": "code",
   "execution_count": null,
   "id": "95c740db-54cf-4744-8eb2-84ee3f84ffcb",
   "metadata": {},
   "outputs": [],
   "source": [
    "df['spark_yn'] = df['Job Description'].apply(lambda x: 1 if 'spark' in x.lower() else 0)"
   ]
  },
  {
   "cell_type": "code",
   "execution_count": null,
   "id": "e4dd10f8-c831-4446-80b3-8bde9106dc6d",
   "metadata": {
    "tags": []
   },
   "outputs": [],
   "source": [
    "df.spark_yn.value_counts()"
   ]
  },
  {
   "cell_type": "code",
   "execution_count": null,
   "id": "f6d83614-916c-40cb-8f73-2386509d591a",
   "metadata": {},
   "outputs": [],
   "source": [
    "# aws"
   ]
  },
  {
   "cell_type": "code",
   "execution_count": null,
   "id": "02be200d-8d39-4691-90da-899ec0852429",
   "metadata": {},
   "outputs": [],
   "source": [
    "df['aws_yn'] = df['Job Description'].apply(lambda x: 1 if 'aws' in x.lower() else 0)"
   ]
  },
  {
   "cell_type": "code",
   "execution_count": null,
   "id": "1b50de67-adae-4a98-b5ff-f42dd3517516",
   "metadata": {
    "tags": []
   },
   "outputs": [],
   "source": [
    "df.aws_yn.value_counts()"
   ]
  },
  {
   "cell_type": "code",
   "execution_count": null,
   "id": "edf0e806-67e4-449a-93da-8f8f7c2063ec",
   "metadata": {},
   "outputs": [],
   "source": [
    "# excel"
   ]
  },
  {
   "cell_type": "code",
   "execution_count": null,
   "id": "d1d37202-90ae-4807-ab46-a3a50c7c877d",
   "metadata": {},
   "outputs": [],
   "source": [
    "df['excel_yn'] = df['Job Description'].apply(lambda x: 1 if 'excel' in x.lower() else 0)"
   ]
  },
  {
   "cell_type": "code",
   "execution_count": null,
   "id": "4437fdfc-facb-4b51-869e-384fbe762438",
   "metadata": {
    "tags": []
   },
   "outputs": [],
   "source": [
    "df.excel_yn.value_counts()"
   ]
  },
  {
   "cell_type": "code",
   "execution_count": null,
   "id": "6af65497-946a-470b-ace4-c17ef5d4b5b8",
   "metadata": {
    "tags": []
   },
   "outputs": [],
   "source": [
    "df.columns"
   ]
  },
  {
   "cell_type": "code",
   "execution_count": null,
   "id": "32de51a0-82f5-418d-8f81-e61eb91cea98",
   "metadata": {},
   "outputs": [],
   "source": [
    "df_out = df.drop(['Unnamed: 0'], axis=1)"
   ]
  },
  {
   "cell_type": "code",
   "execution_count": null,
   "id": "b661dd76-5b91-4cab-997e-68eebf9905c7",
   "metadata": {
    "tags": []
   },
   "outputs": [],
   "source": [
    "df_out.head()"
   ]
  },
  {
   "cell_type": "code",
   "execution_count": null,
   "id": "d144255a-673f-40b5-824e-fc2bc99911d7",
   "metadata": {},
   "outputs": [],
   "source": [
    "df_out.to_csv('salary_data_cleaned.csv', index=False)"
   ]
  },
  {
   "cell_type": "code",
   "execution_count": null,
   "id": "5635967b-ac4b-42bd-b1e7-ce3e89526458",
   "metadata": {},
   "outputs": [],
   "source": []
  },
  {
   "cell_type": "code",
   "execution_count": null,
   "id": "d2b0ae20-37b4-4889-a91d-450aed107666",
   "metadata": {},
   "outputs": [],
   "source": []
  }
 ],
 "metadata": {
  "kernelspec": {
   "display_name": "Python 3 (ipykernel)",
   "language": "python",
   "name": "python3"
  },
  "language_info": {
   "codemirror_mode": {
    "name": "ipython",
    "version": 3
   },
   "file_extension": ".py",
   "mimetype": "text/x-python",
   "name": "python",
   "nbconvert_exporter": "python",
   "pygments_lexer": "ipython3",
   "version": "3.10.8"
  }
 },
 "nbformat": 4,
 "nbformat_minor": 5
}
