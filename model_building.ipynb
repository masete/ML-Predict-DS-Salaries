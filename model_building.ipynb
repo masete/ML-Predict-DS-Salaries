{
 "cells": [
  {
   "cell_type": "code",
   "execution_count": 1,
   "id": "c6fce3bb-af0a-4a65-b9e5-7882f6b5a0a5",
   "metadata": {},
   "outputs": [],
   "source": [
    "import pandas as pd\n",
    "import matplotlib.pyplot as plt\n",
    "import numpy as np"
   ]
  },
  {
   "cell_type": "code",
   "execution_count": 2,
   "id": "b9898626-61f8-499a-af8f-0c5c532a2d1f",
   "metadata": {},
   "outputs": [],
   "source": [
    "df = pd.read_csv('eda_data.csv')"
   ]
  },
  {
   "cell_type": "code",
   "execution_count": 3,
   "id": "c052de13-48c8-4d4c-8872-543bf9ea671b",
   "metadata": {},
   "outputs": [
    {
     "data": {
      "text/plain": [
       "Index(['Job Title', 'Salary Estimate', 'Job Description', 'Rating',\n",
       "       'Company Name', 'Location', 'Headquarters', 'Size', 'Founded',\n",
       "       'Type of ownership', 'Industry', 'Sector', 'Revenue', 'Competitors',\n",
       "       'hourly', 'employer_provided', 'min_salary', 'max_salary', 'avg_salary',\n",
       "       'company_txt', 'job_state', 'same_state', 'age', 'python_yn', 'R_yn',\n",
       "       'spark_yn', 'aws_yn', 'excel_yn', 'job_simp', 'seniority', 'desc_len',\n",
       "       'num_comp'],\n",
       "      dtype='object')"
      ]
     },
     "execution_count": 3,
     "metadata": {},
     "output_type": "execute_result"
    }
   ],
   "source": [
    "df.columns"
   ]
  },
  {
   "cell_type": "code",
   "execution_count": null,
   "id": "e28de282-23b1-498a-b6d1-592c4487daed",
   "metadata": {},
   "outputs": [],
   "source": [
    "# choose relevant columns\n",
    "df_model = [['avg_salary','Rating','Size','Type of ownership','Industry', 'Sector','Revenue','num_comp','hourly','employer_provided','job_state''same_state', 'age', 'python_yn',\n",
    "       'spark_yn', 'aws_yn', 'excel_yn', 'job_simp','seniority', 'desc_len']]"
   ]
  }
 ],
 "metadata": {
  "kernelspec": {
   "display_name": "Python 3 (ipykernel)",
   "language": "python",
   "name": "python3"
  },
  "language_info": {
   "codemirror_mode": {
    "name": "ipython",
    "version": 3
   },
   "file_extension": ".py",
   "mimetype": "text/x-python",
   "name": "python",
   "nbconvert_exporter": "python",
   "pygments_lexer": "ipython3",
   "version": "3.10.8"
  }
 },
 "nbformat": 4,
 "nbformat_minor": 5
}
